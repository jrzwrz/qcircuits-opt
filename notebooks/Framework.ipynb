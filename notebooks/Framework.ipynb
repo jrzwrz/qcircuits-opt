{
 "cells": [
  {
   "cell_type": "markdown",
   "id": "a6508be3-333a-4dab-95a6-723f28d88f77",
   "metadata": {},
   "source": [
    "# Working with Qiskit\n",
    "\n",
    "To install qiskit, just run `!pip install qiskit` (note: if you have an older version of qiskit, run `!pip install qiskit --upgrade` instead.\n"
   ]
  },
  {
   "cell_type": "code",
   "execution_count": 1,
   "id": "12475848-d2d6-481f-bdee-41ea6bc0e5cf",
   "metadata": {
    "ExecuteTime": {
     "end_time": "2025-09-29T19:58:50.897641Z",
     "start_time": "2025-09-29T19:58:50.367229Z"
    }
   },
   "outputs": [
    {
     "name": "stdout",
     "output_type": "stream",
     "text": [
      "Requirement already satisfied: qiskit in ./venv/lib/python3.13/site-packages (2.2.0)\r\n",
      "Requirement already satisfied: rustworkx>=0.15.0 in ./venv/lib/python3.13/site-packages (from qiskit) (0.17.1)\r\n",
      "Requirement already satisfied: numpy<3,>=1.17 in ./venv/lib/python3.13/site-packages (from qiskit) (2.3.3)\r\n",
      "Requirement already satisfied: scipy>=1.5 in ./venv/lib/python3.13/site-packages (from qiskit) (1.16.2)\r\n",
      "Requirement already satisfied: dill>=0.3 in ./venv/lib/python3.13/site-packages (from qiskit) (0.4.0)\r\n",
      "Requirement already satisfied: stevedore>=3.0.0 in ./venv/lib/python3.13/site-packages (from qiskit) (5.5.0)\r\n",
      "Requirement already satisfied: typing-extensions in ./venv/lib/python3.13/site-packages (from qiskit) (4.15.0)\r\n",
      "\r\n",
      "\u001b[1m[\u001b[0m\u001b[34;49mnotice\u001b[0m\u001b[1;39;49m]\u001b[0m\u001b[39;49m A new release of pip is available: \u001b[0m\u001b[31;49m24.3.1\u001b[0m\u001b[39;49m -> \u001b[0m\u001b[32;49m25.2\u001b[0m\r\n",
      "\u001b[1m[\u001b[0m\u001b[34;49mnotice\u001b[0m\u001b[1;39;49m]\u001b[0m\u001b[39;49m To update, run: \u001b[0m\u001b[32;49mpip install --upgrade pip\u001b[0m\r\n"
     ]
    }
   ],
   "source": [
    "!pip install qiskit"
   ]
  },
  {
   "cell_type": "code",
   "execution_count": 2,
   "id": "93875ae7-2b85-4e70-853b-56395559a7a9",
   "metadata": {
    "ExecuteTime": {
     "end_time": "2025-09-29T19:58:50.915197Z",
     "start_time": "2025-09-29T19:58:50.912038Z"
    }
   },
   "outputs": [
    {
     "ename": "SyntaxError",
     "evalue": "invalid syntax (3919076351.py, line 1)",
     "output_type": "error",
     "traceback": [
      "  \u001b[36mCell\u001b[39m\u001b[36m \u001b[39m\u001b[32mIn[2]\u001b[39m\u001b[32m, line 1\u001b[39m\n\u001b[31m    \u001b[39m\u001b[31mpip install --upgrade pip\u001b[39m\n        ^\n\u001b[31mSyntaxError\u001b[39m\u001b[31m:\u001b[39m invalid syntax\n"
     ]
    }
   ],
   "source": [
    "pip install --upgrade pip\n"
   ]
  },
  {
   "cell_type": "code",
   "execution_count": 4,
   "id": "541b1e68-20b4-467a-bfad-6fc30e80a9da",
   "metadata": {
    "ExecuteTime": {
     "end_time": "2025-09-29T19:59:44.259483Z",
     "start_time": "2025-09-29T19:59:43.865825Z"
    }
   },
   "outputs": [],
   "source": [
    "from qiskit import *"
   ]
  },
  {
   "cell_type": "code",
   "execution_count": 9,
   "id": "38051145-ffba-4c83-8bc6-dcbfc6c2210d",
   "metadata": {
    "ExecuteTime": {
     "end_time": "2025-09-29T20:00:05.822372Z",
     "start_time": "2025-09-29T20:00:05.820589Z"
    }
   },
   "outputs": [],
   "source": [
    "from qiskit import QuantumCircuit\n",
    "from qiskit.quantum_info import Clifford #This is the Clifford Object, which internally stores the operator as a 2n x 2n+1 tableau.\n",
    "from qiskit.circuit.library import *"
   ]
  },
  {
   "cell_type": "markdown",
   "id": "96694818-34ca-4803-911f-598bf1134c7e",
   "metadata": {},
   "source": [
    "# The Clifford Object\n",
    "\n",
    "The idea essentially is that for a quantum circuit object `qc = QuantumCircuit(n)`, the object `cliff = Clifford(qc)` stores the Clifford tableau corresponding to the Clifford Circuit. An example is shown below:"
   ]
  },
  {
   "cell_type": "code",
   "execution_count": 6,
   "id": "7a8e8acb-3fa4-4e72-8818-1790b9321b26",
   "metadata": {
    "ExecuteTime": {
     "end_time": "2025-09-29T19:59:54.511928Z",
     "start_time": "2025-09-29T19:59:54.508407Z"
    }
   },
   "outputs": [
    {
     "data": {
      "text/html": [
       "<pre style=\"word-wrap: normal;white-space: pre;background: #fff0;line-height: 1.1;font-family: &quot;Courier New&quot;,Courier,monospace\">     ┌───┐┌───┐┌───┐\n",
       "q_0: ┤ H ├┤ Z ├┤ H ├\n",
       "     └───┘└───┘└───┘\n",
       "q_1: ───────────────\n",
       "                    </pre>"
      ],
      "text/plain": [
       "     ┌───┐┌───┐┌───┐\n",
       "q_0: ┤ H ├┤ Z ├┤ H ├\n",
       "     └───┘└───┘└───┘\n",
       "q_1: ───────────────\n",
       "                    "
      ]
     },
     "execution_count": 6,
     "metadata": {},
     "output_type": "execute_result"
    }
   ],
   "source": [
    "qc = QuantumCircuit(2)\n",
    "qc.h(0)\n",
    "qc.z(0)\n",
    "qc.h(0)\n",
    "\n",
    "qc.draw()"
   ]
  },
  {
   "cell_type": "code",
   "execution_count": 10,
   "id": "40901132-e4bd-4576-9c55-2a2973c8953f",
   "metadata": {
    "ExecuteTime": {
     "end_time": "2025-09-29T20:00:09.047578Z",
     "start_time": "2025-09-29T20:00:09.044387Z"
    }
   },
   "outputs": [
    {
     "name": "stdout",
     "output_type": "stream",
     "text": [
      "[ True False False False False]\n",
      "[False  True False False False]\n",
      "[False False  True False  True]\n",
      "[False False False  True False]\n"
     ]
    }
   ],
   "source": [
    "cliff = Clifford(qc)\n",
    "for i in cliff.tableau:\n",
    "    print(i)"
   ]
  },
  {
   "cell_type": "markdown",
   "id": "5a50fe3c-86c8-451b-867c-4d1e46ca2582",
   "metadata": {},
   "source": [
    "So, each Clifford operator can be identified uniquely by its' tableau. For example:"
   ]
  },
  {
   "cell_type": "code",
   "execution_count": 12,
   "id": "d28f5fa6-4c1c-4eac-ba2a-de206cd05279",
   "metadata": {
    "ExecuteTime": {
     "end_time": "2025-09-29T20:00:13.531061Z",
     "start_time": "2025-09-29T20:00:13.527586Z"
    }
   },
   "outputs": [
    {
     "data": {
      "text/html": [
       "<pre style=\"word-wrap: normal;white-space: pre;background: #fff0;line-height: 1.1;font-family: &quot;Courier New&quot;,Courier,monospace\">     ┌───┐\n",
       "q_0: ┤ X ├\n",
       "     └───┘\n",
       "q_1: ─────\n",
       "          </pre>"
      ],
      "text/plain": [
       "     ┌───┐\n",
       "q_0: ┤ X ├\n",
       "     └───┘\n",
       "q_1: ─────\n",
       "          "
      ]
     },
     "execution_count": 12,
     "metadata": {},
     "output_type": "execute_result"
    }
   ],
   "source": [
    "qc_ = QuantumCircuit(2)\n",
    "qc_.x(0) #Note: HZH = X\n",
    "\n",
    "qc_.draw()"
   ]
  },
  {
   "cell_type": "code",
   "execution_count": 13,
   "id": "5a682b27-2267-4a24-a286-62c70a1cc4c5",
   "metadata": {
    "ExecuteTime": {
     "end_time": "2025-09-29T20:00:13.977148Z",
     "start_time": "2025-09-29T20:00:13.966055Z"
    }
   },
   "outputs": [
    {
     "name": "stdout",
     "output_type": "stream",
     "text": [
      "[ True False False False False]\n",
      "[False  True False False False]\n",
      "[False False  True False  True]\n",
      "[False False False  True False]\n",
      "Are both operators equal? Ans: True\n"
     ]
    }
   ],
   "source": [
    "cliff_ = Clifford(qc_)\n",
    "for i in cliff_.tableau:\n",
    "    print(i)\n",
    "\n",
    "print('Are both operators equal? Ans:', cliff==cliff_)"
   ]
  },
  {
   "cell_type": "markdown",
   "id": "be422a2e-eb83-45bf-9f73-5e8fed53a7c8",
   "metadata": {},
   "source": [
    "Hence, we can identify each VERTEX with a tableau. The quantum circuits are essentially words.\n",
    "\n",
    "# Approach \n",
    "\n",
    "For a given quantum circuit `qc = QuantumCircuit(n)` with clifford `cliff = Clifford(qc)`, we need to find a minimised circuit `opqc` such that `Clifford(opqc) = cliff`. \n",
    "\n",
    "We use a `QuantumCircuit` object for word storage and the `Clifford` object to identify the vertices. \n",
    "\n",
    "## Identity element:\n",
    "\n",
    "We start with an IDENTITY CIRCUIT `qc = QuantumCircuit(n)` (without any gates), and it's tableau representation is `c_ = Clifford(qc)`. This element is constantly updated. \n",
    "\n",
    "## Traversal:\n",
    "\n",
    "We can do this in two ways:\n",
    "\n",
    "1. Keep updating `qc` with instructions (`qc.h(i)`,`qc.s(i)`,`qc.cx(i,j)`), and at each step check `Clifford(qc)` to identify the vertex. This might be easy to implement, but this would mean generating a NEW TABLEAU for each version of the circuit. This can be unnecessarily time-consuming.\n",
    "2. Use `qc` solely as a word-storage circuit, and manually update `c_` via Clifford operation compositions. This might look like changing both manually, but it makes more sense.\n",
    "\n",
    "* Note: in both of these, you WILL have to keep a track of the elements already traversed... *  \n",
    "\n",
    "We follow approach #2 here. \n",
    "We go on to define some functions so as to make our job easier.\n",
    "\n",
    "We define the following functions, which correspond to the generators $H_{i} , S_{i}, CX_{i,j}$:\n",
    "\n",
    "1. `addH(qc,c_,i)` : Adds H gate to circuit at position i and returns an updated tableau, corresponding to generator $H_i$\n",
    "2. `addS(qc,c_,i)` : Adds S gate to circuit at position i and returns an updated tableau, corresponding to generator $S_i$\n",
    "3. `addCX(qc,c_,i,j)` : Adds CX gate to circuit with control i and target j and returns an updated tableau, corresponding to generator $C_{i,j}$\n",
    "\n",
    "In case one wants to traverse backwards i.e. remove circuit elements, that can also be done. One can delete a circuit element by performing the operation `del(qc.data[-1])` , but you will have to parallely update c_ using a separate array used to track the elements already traversed.\n",
    "\n",
    "(Alternatively one can also implement the deletion function but then it MIGHT get a little too unnecessarily complicated.)"
   ]
  },
  {
   "cell_type": "code",
   "execution_count": 14,
   "id": "b034f5cf-fb76-4f42-a984-8c47ff83e48a",
   "metadata": {
    "ExecuteTime": {
     "end_time": "2025-09-29T20:00:15.017997Z",
     "start_time": "2025-09-29T20:00:15.015057Z"
    }
   },
   "outputs": [],
   "source": [
    "def addH(qc,cliff,pos): \n",
    "    qc.h(pos) #add H to qc\n",
    "    num = cliff.num_qubits\n",
    "    st = 'I'*(num-pos-1)+'H'+'I'*pos\n",
    "    cjoin = cliff.compose(Clifford.from_label(st)) #Clifford Operator Composition\n",
    "    return cjoin\n",
    "\n",
    "def addS(qc,cliff,pos):\n",
    "    qc.s(pos) #add S to qc\n",
    "    num = cliff.num_qubits\n",
    "    st = 'I'*(num-pos-1)+'S'+'I'*pos\n",
    "    cjoin = cliff.compose(Clifford.from_label(st)) #Clifford Operator Composition    \n",
    "    return cjoin\n",
    "\n",
    "def addCX(qc,cliff,ctrl,tgt):\n",
    "    qc.cx(ctrl,tgt) #add CZ to qc\n",
    "    num = cliff.num_qubits\n",
    "    cxc = QuantumCircuit(num)  #We create the CX circuit since the label call doesnt exist for multi-qubit... \n",
    "    cxc.cx(ctrl,tgt)\n",
    "    cjoin = cliff.compose(Clifford(cxc)) #Clifford Operation Composition\n",
    "    return cjoin\n",
    "\n",
    "# The circuit is modified inside the function, and an updated Clifford operation is returned (not affecting the original one, since you might wanna decide how to implement this when working with the graph). "
   ]
  },
  {
   "cell_type": "code",
   "execution_count": 15,
   "id": "c528c85e-a9fd-4806-937d-daacee9eed50",
   "metadata": {
    "ExecuteTime": {
     "end_time": "2025-09-29T20:00:15.455564Z",
     "start_time": "2025-09-29T20:00:15.452728Z"
    }
   },
   "outputs": [
    {
     "name": "stdout",
     "output_type": "stream",
     "text": [
      "     \n",
      "q_0: \n",
      "     \n",
      "q_1: \n",
      "     \n",
      "q_2: \n",
      "      [[ True False False False False False False]\n",
      " [False  True False False False False False]\n",
      " [False False  True False False False False]\n",
      " [False False False  True False False False]\n",
      " [False False False False  True False False]\n",
      " [False False False False False  True False]]\n"
     ]
    }
   ],
   "source": [
    "qc = QuantumCircuit(3)\n",
    "c_ = Clifford(qc)\n",
    "\n",
    "traversed = [] #Or whatever structure you use to store / keep track of the array. \n",
    "\n",
    "print(qc,c_.tableau)\n",
    "\n",
    "\n",
    "traversed.append(c_)"
   ]
  },
  {
   "cell_type": "code",
   "execution_count": 16,
   "id": "e2f53e1a-d827-400f-8a3e-31b25b18bc1b",
   "metadata": {
    "ExecuteTime": {
     "end_time": "2025-09-29T20:00:16.096794Z",
     "start_time": "2025-09-29T20:00:16.093007Z"
    }
   },
   "outputs": [
    {
     "name": "stdout",
     "output_type": "stream",
     "text": [
      "          \n",
      "q_0: ─────\n",
      "     ┌───┐\n",
      "q_1: ┤ H ├\n",
      "     └───┘\n",
      "q_2: ─────\n",
      "           [[ True False False False False False False]\n",
      " [False False False False  True False False]\n",
      " [False False  True False False False False]\n",
      " [False False False  True False False False]\n",
      " [False  True False False False False False]\n",
      " [False False False False False  True False]]\n"
     ]
    }
   ],
   "source": [
    "#Add a hadamard\n",
    "\n",
    "c_ = addH(qc,c_,1) \n",
    "traversed.append(c_)\n",
    "\n",
    "print(qc,c_.tableau) "
   ]
  },
  {
   "cell_type": "markdown",
   "id": "07907ecc-2a98-48bc-b1c5-9919763a8c96",
   "metadata": {},
   "source": [
    "# A simple implementation\n",
    "\n",
    "The following code was mostly generated by ChatGPT but what it does is an implementation of a BFS type algorithm, I would suggest we do a comparitive study of all algorithms available to us. \n",
    "\n"
   ]
  },
  {
   "cell_type": "code",
   "execution_count": 17,
   "id": "bb207b3d-553b-4276-bef6-5c4af65b5101",
   "metadata": {
    "ExecuteTime": {
     "end_time": "2025-09-29T20:00:17.137163Z",
     "start_time": "2025-09-29T20:00:17.132566Z"
    }
   },
   "outputs": [
    {
     "data": {
      "text/html": [
       "<pre style=\"word-wrap: normal;white-space: pre;background: #fff0;line-height: 1.1;font-family: &quot;Courier New&quot;,Courier,monospace\">     ┌───┐┌───┐┌───┐┌───┐┌───┐┌───┐┌───┐┌───┐\n",
       "q_0: ┤ H ├┤ X ├┤ H ├┤ S ├┤ S ├┤ S ├┤ S ├┤ S ├\n",
       "     ├───┤└─┬─┘├───┤├───┤├───┤└───┘└───┘└───┘\n",
       "q_1: ┤ H ├──■──┤ H ├┤ S ├┤ S ├───────────────\n",
       "     └───┘     └───┘└───┘└───┘               </pre>"
      ],
      "text/plain": [
       "     ┌───┐┌───┐┌───┐┌───┐┌───┐┌───┐┌───┐┌───┐\n",
       "q_0: ┤ H ├┤ X ├┤ H ├┤ S ├┤ S ├┤ S ├┤ S ├┤ S ├\n",
       "     ├───┤└─┬─┘├───┤├───┤├───┤└───┘└───┘└───┘\n",
       "q_1: ┤ H ├──■──┤ H ├┤ S ├┤ S ├───────────────\n",
       "     └───┘     └───┘└───┘└───┘               "
      ]
     },
     "execution_count": 17,
     "metadata": {},
     "output_type": "execute_result"
    }
   ],
   "source": [
    "qc_m=QuantumCircuit(2)\n",
    "qc_m.h([0,1])\n",
    "qc_m.cx(1,0)\n",
    "qc_m.h([0,1])\n",
    "qc_m.s(0)\n",
    "qc_m.s(0)\n",
    "qc_m.s(0)\n",
    "qc_m.s(0)\n",
    "qc_m.s(0)\n",
    "qc_m.s(1)\n",
    "qc_m.s(1)\n",
    "\n",
    "qc_m.draw()"
   ]
  },
  {
   "cell_type": "code",
   "execution_count": 18,
   "id": "fceec286-f543-44f5-a063-5ca7a93697d7",
   "metadata": {
    "ExecuteTime": {
     "end_time": "2025-09-29T20:00:18.056528Z",
     "start_time": "2025-09-29T20:00:17.729480Z"
    }
   },
   "outputs": [],
   "source": [
    "from collections import deque\n",
    "\n",
    "def cliff_hash(cliff):\n",
    "    \"\"\"Return a hashable representation of a Clifford.\"\"\"\n",
    "    return tuple(map(tuple, cliff.tableau))\n",
    "\n",
    "def minimize(qc_target):\n",
    "    n = qc_target.num_qubits\n",
    "    target = Clifford(qc_target)\n",
    "    id_cliff = Clifford(QuantumCircuit(n))\n",
    "    \n",
    "    queue = deque([(QuantumCircuit(n), id_cliff, [])])\n",
    "    visited = {cliff_hash(id_cliff)}\n",
    "    \n",
    "    target_hash = cliff_hash(target)\n",
    "    \n",
    "    while queue:\n",
    "        qc, cliff, path = queue.popleft()\n",
    "        \n",
    "        if cliff_hash(cliff) == target_hash:\n",
    "            return qc, path\n",
    "        \n",
    "        # Expand\n",
    "        for q in range(n):\n",
    "            new_qc = qc.copy(); new_cliff = addH(new_qc, cliff, q)\n",
    "            h = cliff_hash(new_cliff)\n",
    "            if h not in visited:\n",
    "                visited.add(h)\n",
    "                queue.append((new_qc, new_cliff, path+[(\"H\", q)]))\n",
    "            \n",
    "            new_qc = qc.copy(); new_cliff = addS(new_qc, cliff, q)\n",
    "            h = cliff_hash(new_cliff)\n",
    "            if h not in visited:\n",
    "                visited.add(h)\n",
    "                queue.append((new_qc, new_cliff, path+[(\"S\", q)]))\n",
    "        \n",
    "        for c in range(n):\n",
    "            for t in range(n):\n",
    "                if c != t:\n",
    "                    new_qc = qc.copy(); new_cliff = addCX(new_qc, cliff, c, t)\n",
    "                    h = cliff_hash(new_cliff)\n",
    "                    if h not in visited:\n",
    "                        visited.add(h)\n",
    "                        queue.append((new_qc, new_cliff, path+[(\"CX\", (c, t))]))\n",
    "\n",
    "qnew = minimize(qc_m)"
   ]
  },
  {
   "cell_type": "code",
   "execution_count": 19,
   "id": "331de050-4438-47a2-8a01-c172076e8afa",
   "metadata": {
    "ExecuteTime": {
     "end_time": "2025-09-29T20:00:18.244806Z",
     "start_time": "2025-09-29T20:00:18.241727Z"
    }
   },
   "outputs": [
    {
     "data": {
      "text/html": [
       "<pre style=\"word-wrap: normal;white-space: pre;background: #fff0;line-height: 1.1;font-family: &quot;Courier New&quot;,Courier,monospace\">     ┌───┐               \n",
       "q_0: ┤ S ├──■────────────\n",
       "     └───┘┌─┴─┐┌───┐┌───┐\n",
       "q_1: ─────┤ X ├┤ S ├┤ S ├\n",
       "          └───┘└───┘└───┘</pre>"
      ],
      "text/plain": [
       "     ┌───┐               \n",
       "q_0: ┤ S ├──■────────────\n",
       "     └───┘┌─┴─┐┌───┐┌───┐\n",
       "q_1: ─────┤ X ├┤ S ├┤ S ├\n",
       "          └───┘└───┘└───┘"
      ]
     },
     "execution_count": 19,
     "metadata": {},
     "output_type": "execute_result"
    }
   ],
   "source": [
    "qnew[0].draw()"
   ]
  },
  {
   "cell_type": "markdown",
   "id": "9343bd1b-0066-41fe-95eb-2ea59a094ef1",
   "metadata": {},
   "source": [
    "Below is an implementation of an on-the-fly Dijkstra's algorithm. "
   ]
  },
  {
   "cell_type": "code",
   "execution_count": 20,
   "id": "036621d7-be3e-4af9-9b4c-694424c0853c",
   "metadata": {
    "ExecuteTime": {
     "end_time": "2025-09-29T20:00:19.393017Z",
     "start_time": "2025-09-29T20:00:19.387754Z"
    }
   },
   "outputs": [],
   "source": [
    "import heapq\n",
    "from qiskit import QuantumCircuit\n",
    "from qiskit.quantum_info import Clifford\n",
    "\n",
    "def clifford_key(cliff):\n",
    "    \"\"\"Return a compact, hashable representation of a Clifford.\"\"\"\n",
    "    return cliff.tableau.tobytes()\n",
    "\n",
    "def dijkstra_minimize(qc_target, weights=None):\n",
    "    n = qc_target.num_qubits\n",
    "    target_cliff = Clifford(qc_target)\n",
    "    target_key = clifford_key(target_cliff)\n",
    "\n",
    "    # Default weights\n",
    "    if weights is None:\n",
    "        weights = {\"H\": 1, \"S\": 1, \"CX\": 2}\n",
    "\n",
    "    # Priority queue: (cost, counter, circuit, clifford, path)\n",
    "    pq = []\n",
    "    counter = 0  # unique index to avoid comparison issues\n",
    "\n",
    "    start = QuantumCircuit(n)\n",
    "    start_cliff = Clifford(start)\n",
    "    heapq.heappush(pq, (0, counter, start, start_cliff, []))\n",
    "\n",
    "    dist = {clifford_key(start_cliff): 0}\n",
    "    visited = set()\n",
    "\n",
    "    while pq:\n",
    "        cost, _, qc, cliff, path = heapq.heappop(pq)\n",
    "        cliff_key = clifford_key(cliff)\n",
    "\n",
    "        if cliff_key == target_key:\n",
    "            return qc, path, cost\n",
    "\n",
    "        if cliff_key in visited:\n",
    "            continue\n",
    "        visited.add(cliff_key)\n",
    "\n",
    "        # Generate neighbors\n",
    "        for q in range(n):\n",
    "            # H\n",
    "            new_qc = qc.copy()\n",
    "            new_qc.h(q)\n",
    "            new_cliff = Clifford(new_qc)\n",
    "            new_cost = cost + weights[\"H\"]\n",
    "            new_key = clifford_key(new_cliff)\n",
    "            if new_cost < dist.get(new_key, float(\"inf\")):\n",
    "                dist[new_key] = new_cost\n",
    "                counter += 1\n",
    "                heapq.heappush(pq, (new_cost, counter, new_qc, new_cliff, path+[(\"H\", q)]))\n",
    "\n",
    "            # S\n",
    "            new_qc = qc.copy()\n",
    "            new_qc.s(q)\n",
    "            new_cliff = Clifford(new_qc)\n",
    "            new_cost = cost + weights[\"S\"]\n",
    "            new_key = clifford_key(new_cliff)\n",
    "            if new_cost < dist.get(new_key, float(\"inf\")):\n",
    "                dist[new_key] = new_cost\n",
    "                counter += 1\n",
    "                heapq.heappush(pq, (new_cost, counter, new_qc, new_cliff, path+[(\"S\", q)]))\n",
    "\n",
    "        for c in range(n):\n",
    "            for t in range(n):\n",
    "                if c == t: \n",
    "                    continue\n",
    "                new_qc = qc.copy()\n",
    "                new_qc.cx(c, t)\n",
    "                new_cliff = Clifford(new_qc)\n",
    "                new_cost = cost + weights[\"CX\"]\n",
    "                new_key = clifford_key(new_cliff)\n",
    "                if new_cost < dist.get(new_key, float(\"inf\")):\n",
    "                    dist[new_key] = new_cost\n",
    "                    counter += 1\n",
    "                    heapq.heappush(pq, (new_cost, counter, new_qc, new_cliff, path+[(\"CX\", c, t)]))"
   ]
  },
  {
   "cell_type": "code",
   "execution_count": 21,
   "id": "d7ff3c48-655f-4132-9cfe-e7ca045ba10e",
   "metadata": {
    "ExecuteTime": {
     "end_time": "2025-09-29T20:00:19.969075Z",
     "start_time": "2025-09-29T20:00:19.843425Z"
    }
   },
   "outputs": [
    {
     "data": {
      "text/html": [
       "<pre style=\"word-wrap: normal;white-space: pre;background: #fff0;line-height: 1.1;font-family: &quot;Courier New&quot;,Courier,monospace\">     ┌───┐               \n",
       "q_0: ┤ S ├──■────────────\n",
       "     └───┘┌─┴─┐┌───┐┌───┐\n",
       "q_1: ─────┤ X ├┤ S ├┤ S ├\n",
       "          └───┘└───┘└───┘</pre>"
      ],
      "text/plain": [
       "     ┌───┐               \n",
       "q_0: ┤ S ├──■────────────\n",
       "     └───┘┌─┴─┐┌───┐┌───┐\n",
       "q_1: ─────┤ X ├┤ S ├┤ S ├\n",
       "          └───┘└───┘└───┘"
      ]
     },
     "execution_count": 21,
     "metadata": {},
     "output_type": "execute_result"
    }
   ],
   "source": [
    "qc_new = dijkstra_minimize(qc_m)\n",
    "qc_new[0].draw()"
   ]
  },
  {
   "cell_type": "code",
   "execution_count": 22,
   "id": "8e903c3f-9026-4e9e-ace0-fff684f7114c",
   "metadata": {
    "ExecuteTime": {
     "end_time": "2025-09-29T20:00:20.221191Z",
     "start_time": "2025-09-29T20:00:20.216892Z"
    }
   },
   "outputs": [
    {
     "name": "stdout",
     "output_type": "stream",
     "text": [
      "[[ True False  True]\n",
      " [False  True  True]]\n",
      "[[ True False  True]\n",
      " [False  True  True]]\n"
     ]
    },
    {
     "data": {
      "text/plain": [
       "(True, False)"
      ]
     },
     "execution_count": 22,
     "metadata": {},
     "output_type": "execute_result"
    }
   ],
   "source": [
    "q1 = QuantumCircuit(1)\n",
    "q1.z(0)\n",
    "q1.x(0)\n",
    "q2 = QuantumCircuit(1)\n",
    "q2.y(0)\n",
    "print(Clifford(q1).tableau)\n",
    "print(Clifford(q2).tableau)\n",
    "\n",
    "\n",
    "Clifford(q1).tableau.tobytes() ==  Clifford(q2).tableau.tobytes() , q1==q2"
   ]
  },
  {
   "cell_type": "markdown",
   "id": "d8b5be1c-2caf-4b21-a0e7-7e1a6df3d551",
   "metadata": {},
   "source": [
    "# Cayley Graph Generation\n"
   ]
  },
  {
   "cell_type": "code",
   "execution_count": 23,
   "id": "35630538-5621-4ab7-a811-73ea799904f6",
   "metadata": {
    "ExecuteTime": {
     "end_time": "2025-09-29T20:00:21.384602Z",
     "start_time": "2025-09-29T20:00:21.380648Z"
    }
   },
   "outputs": [],
   "source": [
    "\n",
    "\n",
    "H = lambda pos,num: Clifford.from_label('I'*(num-pos-1)+'H'+'I'*pos)\n",
    "S = lambda pos,num: Clifford.from_label('I'*(num-pos-1)+'S'+'I'*pos)\n",
    "\n",
    "def CX(ctrl,tgt,num):\n",
    "    if ctrl == tgt: return None\n",
    "    else:\n",
    "        cxc = QuantumCircuit(num)  #We create the CX circuit since the label call doesnt exist for multi-qubit... \n",
    "        cxc.cx(ctrl,tgt)\n",
    "        return (Clifford(cxc)) #Clifford Operation Composition\n",
    "\n",
    "#Based on number of circuits, we have the following generators:\n",
    "\n",
    "n = 2\n",
    "\n",
    "H_n = [ ('H'+str(i),H(i,n)) for i in range(n)]\n",
    "S_n = [('S'+str(i),S(i,n)) for i in range(n)]\n",
    "\n",
    "CX_ijn = []\n",
    "for i in range(n):\n",
    "    for j in range(n):\n",
    "        if i!=j: CX_ijn.append(('CX'+str(i)+str(j),CX(i,j,n)))\n",
    "\n",
    "generators = H_n+CX_ijn\n",
    "\n",
    "\n"
   ]
  },
  {
   "cell_type": "code",
   "execution_count": 24,
   "id": "616f8a3e-e547-4e4d-aaad-1545963f578a",
   "metadata": {
    "ExecuteTime": {
     "end_time": "2025-09-29T20:00:22.009079Z",
     "start_time": "2025-09-29T20:00:22.006255Z"
    }
   },
   "outputs": [
    {
     "data": {
      "text/plain": [
       "[('H0',\n",
       "  Clifford(array([[False, False,  True, False, False],\n",
       "         [False,  True, False, False, False],\n",
       "         [ True, False, False, False, False],\n",
       "         [False, False, False,  True, False]]))),\n",
       " ('H1',\n",
       "  Clifford(array([[ True, False, False, False, False],\n",
       "         [False, False, False,  True, False],\n",
       "         [False, False,  True, False, False],\n",
       "         [False,  True, False, False, False]]))),\n",
       " ('CX01',\n",
       "  Clifford(array([[ True,  True, False, False, False],\n",
       "         [False,  True, False, False, False],\n",
       "         [False, False,  True, False, False],\n",
       "         [False, False,  True,  True, False]]))),\n",
       " ('CX10',\n",
       "  Clifford(array([[ True, False, False, False, False],\n",
       "         [ True,  True, False, False, False],\n",
       "         [False, False,  True,  True, False],\n",
       "         [False, False, False,  True, False]])))]"
      ]
     },
     "execution_count": 24,
     "metadata": {},
     "output_type": "execute_result"
    }
   ],
   "source": [
    "generators"
   ]
  },
  {
   "cell_type": "code",
   "execution_count": 25,
   "id": "fc012175-1244-4d7c-ba0d-84a61300aec9",
   "metadata": {
    "ExecuteTime": {
     "end_time": "2025-09-29T20:00:23.014877Z",
     "start_time": "2025-09-29T20:00:23.012656Z"
    }
   },
   "outputs": [],
   "source": [
    "def clifford_key(cliff):\n",
    "    return cliff.tableau.tobytes()\n",
    "\n",
    "\n",
    "id_cliff = Clifford.from_circuit(QuantumCircuit(2))\n",
    "start_key = clifford_key(id_cliff)  # compact, hashable\n",
    "identity=id_cliff"
   ]
  },
  {
   "cell_type": "code",
   "execution_count": 26,
   "id": "42d4dc60-8c70-499b-b375-754297aa5484",
   "metadata": {
    "ExecuteTime": {
     "end_time": "2025-09-29T20:00:24.378049Z",
     "start_time": "2025-09-29T20:00:23.900984Z"
    }
   },
   "outputs": [
    {
     "name": "stdout",
     "output_type": "stream",
     "text": [
      "Generated nodes: 1152\n",
      "Node: identity  | Outgoing edges: ['H0', 'H1', 'CX01', 'CX10']\n",
      "Node: H0  | Outgoing edges: ['H0', 'H1', 'CX01', 'CX10']\n",
      "Node: H1  | Outgoing edges: ['H0', 'H1', 'CX01', 'CX10']\n",
      "Node: CX01  | Outgoing edges: ['H0', 'H1', 'CX01', 'CX10']\n",
      "Node: CX10  | Outgoing edges: ['H0', 'H1', 'CX01', 'CX10']\n"
     ]
    }
   ],
   "source": [
    "class Node:\n",
    "    def __init__(self, clifford, name=\"\"):\n",
    "        self.clifford = clifford\n",
    "        self.key = clifford_key(clifford)\n",
    "        self.edges = {}  # generator_name -> neighbor Node\n",
    "        self.name = name  # optional: keep track of generator used\n",
    "\n",
    "def build_cayley_graph(generators, start, max_nodes=None):\n",
    "    start_node = Node(start, \"identity\")\n",
    "    nodes = {start_node.key: start_node}\n",
    "    queue = deque([start_node])\n",
    "\n",
    "    while queue:\n",
    "        current = queue.popleft()\n",
    "\n",
    "        for gen_name, gen_op in generators:\n",
    "            new_cliff = current.clifford.compose(gen_op)\n",
    "            new_key = clifford_key(new_cliff)\n",
    "\n",
    "            if new_key not in nodes:\n",
    "                new_node = Node(new_cliff, gen_name)\n",
    "                nodes[new_key] = new_node\n",
    "                queue.append(new_node)\n",
    "\n",
    "            # connect edge\n",
    "            current.edges[gen_name] = (nodes[new_key], 1)\n",
    "\n",
    "        if max_nodes and len(nodes) >= max_nodes:\n",
    "            break\n",
    "\n",
    "    return nodes\n",
    "\n",
    "\n",
    "# --- Example usage ---\n",
    "graph = build_cayley_graph(generators, identity)\n",
    "\n",
    "print(\"Generated nodes:\", len(graph))\n",
    "for k, node in list(graph.items())[:5]:\n",
    "    print(\"Node:\", node.name, \" | Outgoing edges:\", list(node.edges.keys()))"
   ]
  },
  {
   "cell_type": "code",
   "execution_count": 27,
   "id": "2c31c32f-6e82-44af-b7b8-0f0ecd2fe5fc",
   "metadata": {
    "ExecuteTime": {
     "end_time": "2025-09-29T20:00:25.457565Z",
     "start_time": "2025-09-29T20:00:25.454978Z"
    }
   },
   "outputs": [
    {
     "data": {
      "text/plain": [
       "1152"
      ]
     },
     "execution_count": 27,
     "metadata": {},
     "output_type": "execute_result"
    }
   ],
   "source": [
    "len(graph)"
   ]
  },
  {
   "cell_type": "code",
   "execution_count": 28,
   "id": "c82bfb4b-45d5-4aeb-90da-d884860951c6",
   "metadata": {
    "ExecuteTime": {
     "end_time": "2025-09-29T20:00:26.092396Z",
     "start_time": "2025-09-29T20:00:26.089086Z"
    }
   },
   "outputs": [],
   "source": [
    "def dijkstra(nodes, start_key, target_key):\n",
    "    dist = {k: float(\"inf\") for k in nodes}\n",
    "    prev = {k: None for k in nodes}\n",
    "    dist[start_key] = 0\n",
    "\n",
    "    heap = [(0, start_key)]\n",
    "    while heap:\n",
    "        d, u = heapq.heappop(heap)\n",
    "        if d > dist[u]:\n",
    "            continue\n",
    "        if u == target_key:\n",
    "            break\n",
    "        for gen_name, (neighbor, w) in nodes[u].edges.items():\n",
    "            v = neighbor.key\n",
    "            if dist[u] + w < dist[v]:\n",
    "                dist[v] = dist[u] + w\n",
    "                prev[v] = (u, gen_name)\n",
    "                heapq.heappush(heap, (dist[v], v))\n",
    "\n",
    "    # reconstruct path\n",
    "    if dist[target_key] == float(\"inf\"):\n",
    "        return None  # no path\n",
    "    path = []\n",
    "    u = target_key\n",
    "    while prev[u]:\n",
    "        u_prev, gen = prev[u]\n",
    "        path.append(gen)\n",
    "        u = u_prev\n",
    "    return list(reversed(path)), dist[target_key]"
   ]
  },
  {
   "cell_type": "code",
   "execution_count": 32,
   "id": "6ddd269f2001eec2",
   "metadata": {
    "ExecuteTime": {
     "end_time": "2025-09-29T20:10:27.209453Z",
     "start_time": "2025-09-29T20:10:26.813067Z"
    }
   },
   "outputs": [
    {
     "name": "stdout",
     "output_type": "stream",
     "text": [
      "Naive QFT circuit:\n",
      "     ┌───┐┌───┐               \n",
      "q_0: ┤ H ├┤ H ├──■────────────\n",
      "     └───┘└───┘┌─┴─┐┌───┐┌───┐\n",
      "q_1: ──────────┤ X ├┤ H ├┤ H ├\n",
      "               └───┘└───┘└───┘\n",
      "Naive construction: H0 -> H0\n",
      "Shortest circuit uses 1 gates:\n",
      "CX01\n",
      "\n",
      "Equivalent reduced circuit:\n",
      "\n",
      "          \n",
      "q_0: ──■──\n",
      "     ┌─┴─┐\n",
      "q_1: ┤ X ├\n",
      "     └───┘\n"
     ]
    }
   ],
   "source": [
    "graph = build_cayley_graph(generators, identity)\n",
    "example_qft = QuantumCircuit(2)\n",
    "\n",
    "example_qft.h(0)\n",
    "example_qft.h(0)\n",
    "example_qft.cx(0, 1)\n",
    "example_qft.h(1)\n",
    "example_qft.h(1)\n",
    "\n",
    "print(\"Naive QFT circuit:\")\n",
    "print(example_qft)\n",
    "\n",
    "# --- Convert to Clifford ---\n",
    "target = Clifford(example_qft)\n",
    "\n",
    "result = dijkstra(graph, start_key=clifford_key(identity), target_key=clifford_key(target))\n",
    "\n",
    "if result is None:\n",
    "    print(\"No path found.\")\n",
    "else:\n",
    "    path, dist = result\n",
    "    print(\"Naive construction: H0 -> H0\")\n",
    "    print(\"Shortest circuit uses\", dist, \"gates:\")\n",
    "    print(\" -> \".join(path) if path else \"[identity]\")\n",
    "\n",
    "    qc = QuantumCircuit(n)\n",
    "    for gate in path:\n",
    "        if gate.startswith(\"H\"):\n",
    "            pos = int(gate[1])\n",
    "            qc.h(pos)\n",
    "        elif gate.startswith(\"S\"):\n",
    "            pos = int(gate[1])\n",
    "            qc.s(pos)\n",
    "        elif gate.startswith(\"CX\"):\n",
    "            ctrl, tgt = int(gate[2]), int(gate[3])\n",
    "            qc.cx(ctrl, tgt)\n",
    "\n",
    "    print(\"\\nEquivalent reduced circuit:\\n\")\n",
    "    print(qc)\n"
   ]
  },
  {
   "cell_type": "code",
   "execution_count": null,
   "id": "f553c18ea8c0e110",
   "metadata": {},
   "outputs": [],
   "source": []
  }
 ],
 "metadata": {
  "kernelspec": {
   "display_name": "Python [conda env:anaconda3]",
   "language": "python",
   "name": "conda-env-anaconda3-py"
  },
  "language_info": {
   "codemirror_mode": {
    "name": "ipython",
    "version": 3
   },
   "file_extension": ".py",
   "mimetype": "text/x-python",
   "name": "python",
   "nbconvert_exporter": "python",
   "pygments_lexer": "ipython3",
   "version": "3.11.5"
  }
 },
 "nbformat": 4,
 "nbformat_minor": 5
}
